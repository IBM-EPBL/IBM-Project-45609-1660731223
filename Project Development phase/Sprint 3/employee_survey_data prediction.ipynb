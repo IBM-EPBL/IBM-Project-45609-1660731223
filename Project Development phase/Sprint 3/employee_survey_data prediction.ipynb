{
 "cells": [
  {
   "cell_type": "markdown",
   "metadata": {
    "id": "AnElUiBTPTDa"
   },
   "source": [
    "# Importing libraries"
   ]
  },
  {
   "cell_type": "code",
   "execution_count": 137,
   "metadata": {
    "execution": {
     "iopub.execute_input": "2022-06-10T15:17:13.789969Z",
     "iopub.status.busy": "2022-06-10T15:17:13.789035Z",
     "iopub.status.idle": "2022-06-10T15:17:14.734133Z",
     "shell.execute_reply": "2022-06-10T15:17:14.733210Z",
     "shell.execute_reply.started": "2022-06-10T15:17:13.789873Z"
    },
    "id": "ci81i41sPTDc"
   },
   "outputs": [],
   "source": [
    "import pandas as pd\n",
    "import numpy as np\n",
    "import seaborn as sns\n",
    "import matplotlib.pyplot as plt\n",
    "import warnings\n",
    "warnings.filterwarnings('ignore')"
   ]
  },
  {
   "cell_type": "markdown",
   "metadata": {
    "id": "LjpZ4gRJPTDh"
   },
   "source": [
    "# Loading Train and Test datasets"
   ]
  },
  {
   "cell_type": "code",
   "execution_count": 138,
   "metadata": {},
   "outputs": [],
   "source": [
    "import os\n",
    "os.chdir(\"D:\\Datasets\\DATA-SET\")"
   ]
  },
  {
   "cell_type": "code",
   "execution_count": 139,
   "metadata": {
    "colab": {
     "base_uri": "https://localhost:8080/",
     "height": 627
    },
    "execution": {
     "iopub.execute_input": "2022-06-10T15:17:22.869440Z",
     "iopub.status.busy": "2022-06-10T15:17:22.869077Z",
     "iopub.status.idle": "2022-06-10T15:17:22.946173Z",
     "shell.execute_reply": "2022-06-10T15:17:22.945305Z",
     "shell.execute_reply.started": "2022-06-10T15:17:22.869410Z"
    },
    "id": "BD4jtYYpPTDj",
    "outputId": "d28ada43-6c6d-4f2d-c453-3686e3d803af"
   },
   "outputs": [
    {
     "data": {
      "text/html": [
       "<div>\n",
       "<style scoped>\n",
       "    .dataframe tbody tr th:only-of-type {\n",
       "        vertical-align: middle;\n",
       "    }\n",
       "\n",
       "    .dataframe tbody tr th {\n",
       "        vertical-align: top;\n",
       "    }\n",
       "\n",
       "    .dataframe thead th {\n",
       "        text-align: right;\n",
       "    }\n",
       "</style>\n",
       "<table border=\"1\" class=\"dataframe\">\n",
       "  <thead>\n",
       "    <tr style=\"text-align: right;\">\n",
       "      <th></th>\n",
       "      <th>EmployeeID</th>\n",
       "      <th>EnvironmentSatisfaction</th>\n",
       "      <th>JobSatisfaction</th>\n",
       "      <th>WorkLifeBalance</th>\n",
       "    </tr>\n",
       "  </thead>\n",
       "  <tbody>\n",
       "    <tr>\n",
       "      <th>0</th>\n",
       "      <td>1</td>\n",
       "      <td>3.0</td>\n",
       "      <td>4.0</td>\n",
       "      <td>2.0</td>\n",
       "    </tr>\n",
       "    <tr>\n",
       "      <th>1</th>\n",
       "      <td>2</td>\n",
       "      <td>3.0</td>\n",
       "      <td>2.0</td>\n",
       "      <td>4.0</td>\n",
       "    </tr>\n",
       "    <tr>\n",
       "      <th>2</th>\n",
       "      <td>3</td>\n",
       "      <td>2.0</td>\n",
       "      <td>2.0</td>\n",
       "      <td>1.0</td>\n",
       "    </tr>\n",
       "    <tr>\n",
       "      <th>3</th>\n",
       "      <td>4</td>\n",
       "      <td>4.0</td>\n",
       "      <td>4.0</td>\n",
       "      <td>3.0</td>\n",
       "    </tr>\n",
       "    <tr>\n",
       "      <th>4</th>\n",
       "      <td>5</td>\n",
       "      <td>4.0</td>\n",
       "      <td>1.0</td>\n",
       "      <td>3.0</td>\n",
       "    </tr>\n",
       "    <tr>\n",
       "      <th>...</th>\n",
       "      <td>...</td>\n",
       "      <td>...</td>\n",
       "      <td>...</td>\n",
       "      <td>...</td>\n",
       "    </tr>\n",
       "    <tr>\n",
       "      <th>4405</th>\n",
       "      <td>4406</td>\n",
       "      <td>4.0</td>\n",
       "      <td>1.0</td>\n",
       "      <td>3.0</td>\n",
       "    </tr>\n",
       "    <tr>\n",
       "      <th>4406</th>\n",
       "      <td>4407</td>\n",
       "      <td>4.0</td>\n",
       "      <td>4.0</td>\n",
       "      <td>3.0</td>\n",
       "    </tr>\n",
       "    <tr>\n",
       "      <th>4407</th>\n",
       "      <td>4408</td>\n",
       "      <td>1.0</td>\n",
       "      <td>3.0</td>\n",
       "      <td>3.0</td>\n",
       "    </tr>\n",
       "    <tr>\n",
       "      <th>4408</th>\n",
       "      <td>4409</td>\n",
       "      <td>4.0</td>\n",
       "      <td>1.0</td>\n",
       "      <td>3.0</td>\n",
       "    </tr>\n",
       "    <tr>\n",
       "      <th>4409</th>\n",
       "      <td>4410</td>\n",
       "      <td>1.0</td>\n",
       "      <td>3.0</td>\n",
       "      <td>NaN</td>\n",
       "    </tr>\n",
       "  </tbody>\n",
       "</table>\n",
       "<p>4410 rows × 4 columns</p>\n",
       "</div>"
      ],
      "text/plain": [
       "      EmployeeID  EnvironmentSatisfaction  JobSatisfaction  WorkLifeBalance\n",
       "0              1                      3.0              4.0              2.0\n",
       "1              2                      3.0              2.0              4.0\n",
       "2              3                      2.0              2.0              1.0\n",
       "3              4                      4.0              4.0              3.0\n",
       "4              5                      4.0              1.0              3.0\n",
       "...          ...                      ...              ...              ...\n",
       "4405        4406                      4.0              1.0              3.0\n",
       "4406        4407                      4.0              4.0              3.0\n",
       "4407        4408                      1.0              3.0              3.0\n",
       "4408        4409                      4.0              1.0              3.0\n",
       "4409        4410                      1.0              3.0              NaN\n",
       "\n",
       "[4410 rows x 4 columns]"
      ]
     },
     "execution_count": 139,
     "metadata": {},
     "output_type": "execute_result"
    }
   ],
   "source": [
    "df1=pd.read_csv('employee_survey_data.csv')\n",
    "df1"
   ]
  },
  {
   "cell_type": "markdown",
   "metadata": {
    "id": "vhsxDL5GPTDs"
   },
   "source": [
    "# Exploratory Data Analysis(EDA)"
   ]
  },
  {
   "cell_type": "code",
   "execution_count": 140,
   "metadata": {
    "colab": {
     "base_uri": "https://localhost:8080/",
     "height": 369
    },
    "execution": {
     "iopub.execute_input": "2022-06-10T15:17:47.061001Z",
     "iopub.status.busy": "2022-06-10T15:17:47.060610Z",
     "iopub.status.idle": "2022-06-10T15:17:47.085378Z",
     "shell.execute_reply": "2022-06-10T15:17:47.084570Z",
     "shell.execute_reply.started": "2022-06-10T15:17:47.060967Z"
    },
    "id": "WMB9gvoWPTEN",
    "outputId": "9549184f-52c2-4a9a-c157-316ae21ab587"
   },
   "outputs": [
    {
     "data": {
      "text/html": [
       "<div>\n",
       "<style scoped>\n",
       "    .dataframe tbody tr th:only-of-type {\n",
       "        vertical-align: middle;\n",
       "    }\n",
       "\n",
       "    .dataframe tbody tr th {\n",
       "        vertical-align: top;\n",
       "    }\n",
       "\n",
       "    .dataframe thead th {\n",
       "        text-align: right;\n",
       "    }\n",
       "</style>\n",
       "<table border=\"1\" class=\"dataframe\">\n",
       "  <thead>\n",
       "    <tr style=\"text-align: right;\">\n",
       "      <th></th>\n",
       "      <th>EmployeeID</th>\n",
       "      <th>EnvironmentSatisfaction</th>\n",
       "      <th>JobSatisfaction</th>\n",
       "      <th>WorkLifeBalance</th>\n",
       "    </tr>\n",
       "  </thead>\n",
       "  <tbody>\n",
       "    <tr>\n",
       "      <th>0</th>\n",
       "      <td>1</td>\n",
       "      <td>3.0</td>\n",
       "      <td>4.0</td>\n",
       "      <td>2.0</td>\n",
       "    </tr>\n",
       "    <tr>\n",
       "      <th>1</th>\n",
       "      <td>2</td>\n",
       "      <td>3.0</td>\n",
       "      <td>2.0</td>\n",
       "      <td>4.0</td>\n",
       "    </tr>\n",
       "    <tr>\n",
       "      <th>2</th>\n",
       "      <td>3</td>\n",
       "      <td>2.0</td>\n",
       "      <td>2.0</td>\n",
       "      <td>1.0</td>\n",
       "    </tr>\n",
       "    <tr>\n",
       "      <th>3</th>\n",
       "      <td>4</td>\n",
       "      <td>4.0</td>\n",
       "      <td>4.0</td>\n",
       "      <td>3.0</td>\n",
       "    </tr>\n",
       "    <tr>\n",
       "      <th>4</th>\n",
       "      <td>5</td>\n",
       "      <td>4.0</td>\n",
       "      <td>1.0</td>\n",
       "      <td>3.0</td>\n",
       "    </tr>\n",
       "  </tbody>\n",
       "</table>\n",
       "</div>"
      ],
      "text/plain": [
       "   EmployeeID  EnvironmentSatisfaction  JobSatisfaction  WorkLifeBalance\n",
       "0           1                      3.0              4.0              2.0\n",
       "1           2                      3.0              2.0              4.0\n",
       "2           3                      2.0              2.0              1.0\n",
       "3           4                      4.0              4.0              3.0\n",
       "4           5                      4.0              1.0              3.0"
      ]
     },
     "execution_count": 140,
     "metadata": {},
     "output_type": "execute_result"
    }
   ],
   "source": [
    "df1.head()"
   ]
  },
  {
   "cell_type": "code",
   "execution_count": 141,
   "metadata": {
    "colab": {
     "base_uri": "https://localhost:8080/",
     "height": 364
    },
    "execution": {
     "iopub.execute_input": "2022-06-10T15:17:54.576727Z",
     "iopub.status.busy": "2022-06-10T15:17:54.576375Z",
     "iopub.status.idle": "2022-06-10T15:17:54.698275Z",
     "shell.execute_reply": "2022-06-10T15:17:54.697328Z",
     "shell.execute_reply.started": "2022-06-10T15:17:54.576699Z"
    },
    "id": "PzARQ7pkPTEQ",
    "outputId": "76ebcc57-cf7d-4cc7-dbef-b81e03f15e9b"
   },
   "outputs": [
    {
     "data": {
      "text/html": [
       "<div>\n",
       "<style scoped>\n",
       "    .dataframe tbody tr th:only-of-type {\n",
       "        vertical-align: middle;\n",
       "    }\n",
       "\n",
       "    .dataframe tbody tr th {\n",
       "        vertical-align: top;\n",
       "    }\n",
       "\n",
       "    .dataframe thead th {\n",
       "        text-align: right;\n",
       "    }\n",
       "</style>\n",
       "<table border=\"1\" class=\"dataframe\">\n",
       "  <thead>\n",
       "    <tr style=\"text-align: right;\">\n",
       "      <th></th>\n",
       "      <th>EmployeeID</th>\n",
       "      <th>EnvironmentSatisfaction</th>\n",
       "      <th>JobSatisfaction</th>\n",
       "      <th>WorkLifeBalance</th>\n",
       "    </tr>\n",
       "  </thead>\n",
       "  <tbody>\n",
       "    <tr>\n",
       "      <th>count</th>\n",
       "      <td>4410.000000</td>\n",
       "      <td>4385.000000</td>\n",
       "      <td>4390.000000</td>\n",
       "      <td>4372.000000</td>\n",
       "    </tr>\n",
       "    <tr>\n",
       "      <th>mean</th>\n",
       "      <td>2205.500000</td>\n",
       "      <td>2.723603</td>\n",
       "      <td>2.728246</td>\n",
       "      <td>2.761436</td>\n",
       "    </tr>\n",
       "    <tr>\n",
       "      <th>std</th>\n",
       "      <td>1273.201673</td>\n",
       "      <td>1.092756</td>\n",
       "      <td>1.101253</td>\n",
       "      <td>0.706245</td>\n",
       "    </tr>\n",
       "    <tr>\n",
       "      <th>min</th>\n",
       "      <td>1.000000</td>\n",
       "      <td>1.000000</td>\n",
       "      <td>1.000000</td>\n",
       "      <td>1.000000</td>\n",
       "    </tr>\n",
       "    <tr>\n",
       "      <th>25%</th>\n",
       "      <td>1103.250000</td>\n",
       "      <td>2.000000</td>\n",
       "      <td>2.000000</td>\n",
       "      <td>2.000000</td>\n",
       "    </tr>\n",
       "    <tr>\n",
       "      <th>50%</th>\n",
       "      <td>2205.500000</td>\n",
       "      <td>3.000000</td>\n",
       "      <td>3.000000</td>\n",
       "      <td>3.000000</td>\n",
       "    </tr>\n",
       "    <tr>\n",
       "      <th>75%</th>\n",
       "      <td>3307.750000</td>\n",
       "      <td>4.000000</td>\n",
       "      <td>4.000000</td>\n",
       "      <td>3.000000</td>\n",
       "    </tr>\n",
       "    <tr>\n",
       "      <th>max</th>\n",
       "      <td>4410.000000</td>\n",
       "      <td>4.000000</td>\n",
       "      <td>4.000000</td>\n",
       "      <td>4.000000</td>\n",
       "    </tr>\n",
       "  </tbody>\n",
       "</table>\n",
       "</div>"
      ],
      "text/plain": [
       "        EmployeeID  EnvironmentSatisfaction  JobSatisfaction  WorkLifeBalance\n",
       "count  4410.000000              4385.000000      4390.000000      4372.000000\n",
       "mean   2205.500000                 2.723603         2.728246         2.761436\n",
       "std    1273.201673                 1.092756         1.101253         0.706245\n",
       "min       1.000000                 1.000000         1.000000         1.000000\n",
       "25%    1103.250000                 2.000000         2.000000         2.000000\n",
       "50%    2205.500000                 3.000000         3.000000         3.000000\n",
       "75%    3307.750000                 4.000000         4.000000         3.000000\n",
       "max    4410.000000                 4.000000         4.000000         4.000000"
      ]
     },
     "execution_count": 141,
     "metadata": {},
     "output_type": "execute_result"
    }
   ],
   "source": [
    "df1.describe()"
   ]
  },
  {
   "cell_type": "code",
   "execution_count": 142,
   "metadata": {
    "colab": {
     "base_uri": "https://localhost:8080/"
    },
    "execution": {
     "iopub.execute_input": "2022-06-10T15:18:05.330841Z",
     "iopub.status.busy": "2022-06-10T15:18:05.330442Z",
     "iopub.status.idle": "2022-06-10T15:18:05.360893Z",
     "shell.execute_reply": "2022-06-10T15:18:05.359900Z",
     "shell.execute_reply.started": "2022-06-10T15:18:05.330811Z"
    },
    "id": "bueIo-OfPTER",
    "outputId": "6986dda0-7376-453d-891e-46399413e0c4"
   },
   "outputs": [
    {
     "name": "stdout",
     "output_type": "stream",
     "text": [
      "<class 'pandas.core.frame.DataFrame'>\n",
      "RangeIndex: 4410 entries, 0 to 4409\n",
      "Data columns (total 4 columns):\n",
      " #   Column                   Non-Null Count  Dtype  \n",
      "---  ------                   --------------  -----  \n",
      " 0   EmployeeID               4410 non-null   int64  \n",
      " 1   EnvironmentSatisfaction  4385 non-null   float64\n",
      " 2   JobSatisfaction          4390 non-null   float64\n",
      " 3   WorkLifeBalance          4372 non-null   float64\n",
      "dtypes: float64(3), int64(1)\n",
      "memory usage: 137.9 KB\n"
     ]
    }
   ],
   "source": [
    "df1.info()"
   ]
  },
  {
   "cell_type": "code",
   "execution_count": 143,
   "metadata": {
    "colab": {
     "base_uri": "https://localhost:8080/"
    },
    "execution": {
     "iopub.execute_input": "2022-06-10T15:18:13.547576Z",
     "iopub.status.busy": "2022-06-10T15:18:13.547173Z",
     "iopub.status.idle": "2022-06-10T15:18:13.563198Z",
     "shell.execute_reply": "2022-06-10T15:18:13.562515Z",
     "shell.execute_reply.started": "2022-06-10T15:18:13.547544Z"
    },
    "id": "v__7Tf9lPTES",
    "outputId": "88a184ab-4fba-4458-c113-4085a5097441"
   },
   "outputs": [
    {
     "data": {
      "text/plain": [
       "EmployeeID                  0\n",
       "EnvironmentSatisfaction    25\n",
       "JobSatisfaction            20\n",
       "WorkLifeBalance            38\n",
       "dtype: int64"
      ]
     },
     "execution_count": 143,
     "metadata": {},
     "output_type": "execute_result"
    }
   ],
   "source": [
    "df1.isnull().sum()"
   ]
  },
  {
   "cell_type": "code",
   "execution_count": 144,
   "metadata": {
    "colab": {
     "base_uri": "https://localhost:8080/"
    },
    "execution": {
     "iopub.execute_input": "2022-06-10T15:18:20.159268Z",
     "iopub.status.busy": "2022-06-10T15:18:20.158876Z",
     "iopub.status.idle": "2022-06-10T15:18:20.175528Z",
     "shell.execute_reply": "2022-06-10T15:18:20.174530Z",
     "shell.execute_reply.started": "2022-06-10T15:18:20.159236Z"
    },
    "id": "NtZIqiN7PTEU",
    "outputId": "63b3c2c1-69c6-40d8-8f7f-0df46dbc169f"
   },
   "outputs": [
    {
     "data": {
      "text/plain": [
       "EmployeeID                 0.000000\n",
       "EnvironmentSatisfaction    0.005669\n",
       "JobSatisfaction            0.004535\n",
       "WorkLifeBalance            0.008617\n",
       "dtype: float64"
      ]
     },
     "execution_count": 144,
     "metadata": {},
     "output_type": "execute_result"
    }
   ],
   "source": [
    "df1.isnull().mean()"
   ]
  },
  {
   "cell_type": "code",
   "execution_count": 145,
   "metadata": {
    "colab": {
     "base_uri": "https://localhost:8080/",
     "height": 627
    },
    "execution": {
     "iopub.execute_input": "2022-06-10T15:18:51.167927Z",
     "iopub.status.busy": "2022-06-10T15:18:51.166896Z",
     "iopub.status.idle": "2022-06-10T15:18:51.197616Z",
     "shell.execute_reply": "2022-06-10T15:18:51.196677Z",
     "shell.execute_reply.started": "2022-06-10T15:18:51.167871Z"
    },
    "id": "qOLo2m-gPTEg",
    "outputId": "f664755d-3d59-464a-f905-2b2063c80807"
   },
   "outputs": [
    {
     "data": {
      "text/html": [
       "<div>\n",
       "<style scoped>\n",
       "    .dataframe tbody tr th:only-of-type {\n",
       "        vertical-align: middle;\n",
       "    }\n",
       "\n",
       "    .dataframe tbody tr th {\n",
       "        vertical-align: top;\n",
       "    }\n",
       "\n",
       "    .dataframe thead th {\n",
       "        text-align: right;\n",
       "    }\n",
       "</style>\n",
       "<table border=\"1\" class=\"dataframe\">\n",
       "  <thead>\n",
       "    <tr style=\"text-align: right;\">\n",
       "      <th></th>\n",
       "      <th>EmployeeID</th>\n",
       "      <th>EnvironmentSatisfaction</th>\n",
       "      <th>JobSatisfaction</th>\n",
       "      <th>WorkLifeBalance</th>\n",
       "    </tr>\n",
       "  </thead>\n",
       "  <tbody>\n",
       "    <tr>\n",
       "      <th>0</th>\n",
       "      <td>1</td>\n",
       "      <td>3.0</td>\n",
       "      <td>4.0</td>\n",
       "      <td>2.0</td>\n",
       "    </tr>\n",
       "    <tr>\n",
       "      <th>1</th>\n",
       "      <td>2</td>\n",
       "      <td>3.0</td>\n",
       "      <td>2.0</td>\n",
       "      <td>4.0</td>\n",
       "    </tr>\n",
       "    <tr>\n",
       "      <th>2</th>\n",
       "      <td>3</td>\n",
       "      <td>2.0</td>\n",
       "      <td>2.0</td>\n",
       "      <td>1.0</td>\n",
       "    </tr>\n",
       "    <tr>\n",
       "      <th>3</th>\n",
       "      <td>4</td>\n",
       "      <td>4.0</td>\n",
       "      <td>4.0</td>\n",
       "      <td>3.0</td>\n",
       "    </tr>\n",
       "    <tr>\n",
       "      <th>4</th>\n",
       "      <td>5</td>\n",
       "      <td>4.0</td>\n",
       "      <td>1.0</td>\n",
       "      <td>3.0</td>\n",
       "    </tr>\n",
       "    <tr>\n",
       "      <th>...</th>\n",
       "      <td>...</td>\n",
       "      <td>...</td>\n",
       "      <td>...</td>\n",
       "      <td>...</td>\n",
       "    </tr>\n",
       "    <tr>\n",
       "      <th>4405</th>\n",
       "      <td>4406</td>\n",
       "      <td>4.0</td>\n",
       "      <td>1.0</td>\n",
       "      <td>3.0</td>\n",
       "    </tr>\n",
       "    <tr>\n",
       "      <th>4406</th>\n",
       "      <td>4407</td>\n",
       "      <td>4.0</td>\n",
       "      <td>4.0</td>\n",
       "      <td>3.0</td>\n",
       "    </tr>\n",
       "    <tr>\n",
       "      <th>4407</th>\n",
       "      <td>4408</td>\n",
       "      <td>1.0</td>\n",
       "      <td>3.0</td>\n",
       "      <td>3.0</td>\n",
       "    </tr>\n",
       "    <tr>\n",
       "      <th>4408</th>\n",
       "      <td>4409</td>\n",
       "      <td>4.0</td>\n",
       "      <td>1.0</td>\n",
       "      <td>3.0</td>\n",
       "    </tr>\n",
       "    <tr>\n",
       "      <th>4409</th>\n",
       "      <td>4410</td>\n",
       "      <td>1.0</td>\n",
       "      <td>3.0</td>\n",
       "      <td>NaN</td>\n",
       "    </tr>\n",
       "  </tbody>\n",
       "</table>\n",
       "<p>4410 rows × 4 columns</p>\n",
       "</div>"
      ],
      "text/plain": [
       "      EmployeeID  EnvironmentSatisfaction  JobSatisfaction  WorkLifeBalance\n",
       "0              1                      3.0              4.0              2.0\n",
       "1              2                      3.0              2.0              4.0\n",
       "2              3                      2.0              2.0              1.0\n",
       "3              4                      4.0              4.0              3.0\n",
       "4              5                      4.0              1.0              3.0\n",
       "...          ...                      ...              ...              ...\n",
       "4405        4406                      4.0              1.0              3.0\n",
       "4406        4407                      4.0              4.0              3.0\n",
       "4407        4408                      1.0              3.0              3.0\n",
       "4408        4409                      4.0              1.0              3.0\n",
       "4409        4410                      1.0              3.0              NaN\n",
       "\n",
       "[4410 rows x 4 columns]"
      ]
     },
     "execution_count": 145,
     "metadata": {},
     "output_type": "execute_result"
    }
   ],
   "source": [
    "df1"
   ]
  },
  {
   "cell_type": "code",
   "execution_count": 146,
   "metadata": {},
   "outputs": [],
   "source": [
    "df1['EnvironmentSatisfaction']=df1['EnvironmentSatisfaction'].fillna(df1['EnvironmentSatisfaction'].mean())"
   ]
  },
  {
   "cell_type": "code",
   "execution_count": 147,
   "metadata": {},
   "outputs": [],
   "source": [
    "df1['JobSatisfaction']=df1['JobSatisfaction'].fillna(df1['JobSatisfaction'].mean())"
   ]
  },
  {
   "cell_type": "code",
   "execution_count": 148,
   "metadata": {},
   "outputs": [],
   "source": [
    "df1['WorkLifeBalance']=df1['WorkLifeBalance'].fillna(df1['WorkLifeBalance'].mean())"
   ]
  },
  {
   "cell_type": "code",
   "execution_count": 149,
   "metadata": {
    "colab": {
     "base_uri": "https://localhost:8080/"
    },
    "execution": {
     "iopub.execute_input": "2022-06-10T15:18:58.946872Z",
     "iopub.status.busy": "2022-06-10T15:18:58.946457Z",
     "iopub.status.idle": "2022-06-10T15:18:58.953197Z",
     "shell.execute_reply": "2022-06-10T15:18:58.952485Z",
     "shell.execute_reply.started": "2022-06-10T15:18:58.946840Z"
    },
    "id": "FENJl59sPTEm",
    "outputId": "5c3d80b3-24ee-4432-e7a3-01fb179214ea"
   },
   "outputs": [
    {
     "data": {
      "text/plain": [
       "Index(['EmployeeID', 'EnvironmentSatisfaction', 'JobSatisfaction',\n",
       "       'WorkLifeBalance'],\n",
       "      dtype='object')"
      ]
     },
     "execution_count": 149,
     "metadata": {},
     "output_type": "execute_result"
    }
   ],
   "source": [
    "df1.columns"
   ]
  },
  {
   "cell_type": "code",
   "execution_count": 150,
   "metadata": {
    "colab": {
     "base_uri": "https://localhost:8080/",
     "height": 265
    },
    "execution": {
     "iopub.execute_input": "2022-06-10T15:19:02.928361Z",
     "iopub.status.busy": "2022-06-10T15:19:02.927980Z",
     "iopub.status.idle": "2022-06-10T15:19:03.120866Z",
     "shell.execute_reply": "2022-06-10T15:19:03.119819Z",
     "shell.execute_reply.started": "2022-06-10T15:19:02.928325Z"
    },
    "id": "Np5w9UI0PTEr",
    "outputId": "a08dd4d8-6610-439c-8218-1324b8073c8f"
   },
   "outputs": [
    {
     "data": {
      "image/png": "[encoded data removed]",
      "text/plain": [
       "<Figure size 432x288 with 1 Axes>"
      ]
     },
     "metadata": {
      "needs_background": "light"
     },
     "output_type": "display_data"
    }
   ],
   "source": [
    "sns.countplot(df1.dtypes.map(str))\n",
    "plt.show()"
   ]
  },
  {
   "cell_type": "code",
   "execution_count": 151,
   "metadata": {
    "colab": {
     "base_uri": "https://localhost:8080/"
    },
    "execution": {
     "iopub.execute_input": "2022-06-10T15:19:06.407341Z",
     "iopub.status.busy": "2022-06-10T15:19:06.406916Z",
     "iopub.status.idle": "2022-06-10T15:19:06.415092Z",
     "shell.execute_reply": "2022-06-10T15:19:06.414481Z",
     "shell.execute_reply.started": "2022-06-10T15:19:06.407305Z"
    },
    "id": "tK6ke7bdPTEs",
    "outputId": "7cf28db0-dc30-4c7d-e2eb-7aed2cea51f5"
   },
   "outputs": [
    {
     "data": {
      "text/plain": [
       "float64    3\n",
       "int64      1\n",
       "dtype: int64"
      ]
     },
     "execution_count": 151,
     "metadata": {},
     "output_type": "execute_result"
    }
   ],
   "source": [
    "df1.dtypes.value_counts()"
   ]
  },
  {
   "cell_type": "code",
   "execution_count": 152,
   "metadata": {},
   "outputs": [],
   "source": [
    "df1['JobSatisfaction']=df1['JobSatisfaction'].astype(int)"
   ]
  },
  {
   "cell_type": "code",
   "execution_count": 153,
   "metadata": {},
   "outputs": [],
   "source": [
    "df1['WorkLifeBalance']=df1['WorkLifeBalance'].astype(int)"
   ]
  },
  {
   "cell_type": "code",
   "execution_count": 154,
   "metadata": {
    "colab": {
     "base_uri": "https://localhost:8080/"
    },
    "execution": {
     "iopub.execute_input": "2022-06-10T15:19:41.350904Z",
     "iopub.status.busy": "2022-06-10T15:19:41.350207Z",
     "iopub.status.idle": "2022-06-10T15:19:41.358614Z",
     "shell.execute_reply": "2022-06-10T15:19:41.357828Z",
     "shell.execute_reply.started": "2022-06-10T15:19:41.350863Z"
    },
    "id": "NiDRhToIPTEw",
    "outputId": "3027e24c-ee10-4808-e5f4-79e9053e32d1"
   },
   "outputs": [
    {
     "data": {
      "text/plain": [
       "EmployeeID                   int64\n",
       "EnvironmentSatisfaction    float64\n",
       "JobSatisfaction              int32\n",
       "WorkLifeBalance              int32\n",
       "dtype: object"
      ]
     },
     "execution_count": 154,
     "metadata": {},
     "output_type": "execute_result"
    }
   ],
   "source": [
    "df1.dtypes"
   ]
  },
  {
   "cell_type": "code",
   "execution_count": 155,
   "metadata": {
    "colab": {
     "base_uri": "https://localhost:8080/"
    },
    "execution": {
     "iopub.execute_input": "2022-06-10T15:19:58.487466Z",
     "iopub.status.busy": "2022-06-10T15:19:58.487069Z",
     "iopub.status.idle": "2022-06-10T15:19:58.494189Z",
     "shell.execute_reply": "2022-06-10T15:19:58.493512Z",
     "shell.execute_reply.started": "2022-06-10T15:19:58.487434Z"
    },
    "id": "TBoQfUR4PTEy",
    "outputId": "c1d81f55-bdb0-4022-9989-18b74ae790d8"
   },
   "outputs": [
    {
     "data": {
      "text/plain": [
       "array([   1,    2,    3, ..., 4408, 4409, 4410], dtype=int64)"
      ]
     },
     "execution_count": 155,
     "metadata": {},
     "output_type": "execute_result"
    }
   ],
   "source": [
    "df1['EmployeeID'].unique()"
   ]
  },
  {
   "cell_type": "code",
   "execution_count": 156,
   "metadata": {},
   "outputs": [],
   "source": [
    "df1 = df1.drop('EnvironmentSatisfaction', axis = 1)"
   ]
  },
  {
   "cell_type": "code",
   "execution_count": 157,
   "metadata": {},
   "outputs": [
    {
     "data": {
      "text/html": [
       "<div>\n",
       "<style scoped>\n",
       "    .dataframe tbody tr th:only-of-type {\n",
       "        vertical-align: middle;\n",
       "    }\n",
       "\n",
       "    .dataframe tbody tr th {\n",
       "        vertical-align: top;\n",
       "    }\n",
       "\n",
       "    .dataframe thead th {\n",
       "        text-align: right;\n",
       "    }\n",
       "</style>\n",
       "<table border=\"1\" class=\"dataframe\">\n",
       "  <thead>\n",
       "    <tr style=\"text-align: right;\">\n",
       "      <th></th>\n",
       "      <th>EmployeeID</th>\n",
       "      <th>JobSatisfaction</th>\n",
       "      <th>WorkLifeBalance</th>\n",
       "    </tr>\n",
       "  </thead>\n",
       "  <tbody>\n",
       "    <tr>\n",
       "      <th>0</th>\n",
       "      <td>1</td>\n",
       "      <td>4</td>\n",
       "      <td>2</td>\n",
       "    </tr>\n",
       "    <tr>\n",
       "      <th>1</th>\n",
       "      <td>2</td>\n",
       "      <td>2</td>\n",
       "      <td>4</td>\n",
       "    </tr>\n",
       "    <tr>\n",
       "      <th>2</th>\n",
       "      <td>3</td>\n",
       "      <td>2</td>\n",
       "      <td>1</td>\n",
       "    </tr>\n",
       "    <tr>\n",
       "      <th>3</th>\n",
       "      <td>4</td>\n",
       "      <td>4</td>\n",
       "      <td>3</td>\n",
       "    </tr>\n",
       "    <tr>\n",
       "      <th>4</th>\n",
       "      <td>5</td>\n",
       "      <td>1</td>\n",
       "      <td>3</td>\n",
       "    </tr>\n",
       "    <tr>\n",
       "      <th>...</th>\n",
       "      <td>...</td>\n",
       "      <td>...</td>\n",
       "      <td>...</td>\n",
       "    </tr>\n",
       "    <tr>\n",
       "      <th>4405</th>\n",
       "      <td>4406</td>\n",
       "      <td>1</td>\n",
       "      <td>3</td>\n",
       "    </tr>\n",
       "    <tr>\n",
       "      <th>4406</th>\n",
       "      <td>4407</td>\n",
       "      <td>4</td>\n",
       "      <td>3</td>\n",
       "    </tr>\n",
       "    <tr>\n",
       "      <th>4407</th>\n",
       "      <td>4408</td>\n",
       "      <td>3</td>\n",
       "      <td>3</td>\n",
       "    </tr>\n",
       "    <tr>\n",
       "      <th>4408</th>\n",
       "      <td>4409</td>\n",
       "      <td>1</td>\n",
       "      <td>3</td>\n",
       "    </tr>\n",
       "    <tr>\n",
       "      <th>4409</th>\n",
       "      <td>4410</td>\n",
       "      <td>3</td>\n",
       "      <td>2</td>\n",
       "    </tr>\n",
       "  </tbody>\n",
       "</table>\n",
       "<p>4410 rows × 3 columns</p>\n",
       "</div>"
      ],
      "text/plain": [
       "      EmployeeID  JobSatisfaction  WorkLifeBalance\n",
       "0              1                4                2\n",
       "1              2                2                4\n",
       "2              3                2                1\n",
       "3              4                4                3\n",
       "4              5                1                3\n",
       "...          ...              ...              ...\n",
       "4405        4406                1                3\n",
       "4406        4407                4                3\n",
       "4407        4408                3                3\n",
       "4408        4409                1                3\n",
       "4409        4410                3                2\n",
       "\n",
       "[4410 rows x 3 columns]"
      ]
     },
     "execution_count": 157,
     "metadata": {},
     "output_type": "execute_result"
    }
   ],
   "source": [
    "df1"
   ]
  },
  {
   "cell_type": "code",
   "execution_count": 158,
   "metadata": {
    "colab": {
     "base_uri": "https://localhost:8080/"
    },
    "execution": {
     "iopub.execute_input": "2022-06-10T15:20:02.048214Z",
     "iopub.status.busy": "2022-06-10T15:20:02.047789Z",
     "iopub.status.idle": "2022-06-10T15:20:02.055696Z",
     "shell.execute_reply": "2022-06-10T15:20:02.054605Z",
     "shell.execute_reply.started": "2022-06-10T15:20:02.048151Z"
    },
    "id": "Snruz5GPPTEz",
    "outputId": "4245fcbb-785b-4f0f-926b-8629aa61c811"
   },
   "outputs": [
    {
     "data": {
      "text/plain": [
       "array([4, 2, 1, 3])"
      ]
     },
     "execution_count": 158,
     "metadata": {},
     "output_type": "execute_result"
    }
   ],
   "source": [
    "df1['JobSatisfaction'].unique()"
   ]
  },
  {
   "cell_type": "markdown",
   "metadata": {
    "id": "SHAhsNVzPTE0"
   },
   "source": [
    "# Data visualizations\n",
    "\n",
    "### Data visualisations using distplot,boxplot(because distplot and boxplot shows how data is distributed and if there are any outliers"
   ]
  },
  {
   "cell_type": "code",
   "execution_count": 159,
   "metadata": {
    "colab": {
     "base_uri": "https://localhost:8080/",
     "height": 531
    },
    "execution": {
     "iopub.execute_input": "2022-06-10T15:20:20.867543Z",
     "iopub.status.busy": "2022-06-10T15:20:20.867046Z",
     "iopub.status.idle": "2022-06-10T15:20:28.300468Z",
     "shell.execute_reply": "2022-06-10T15:20:28.299447Z",
     "shell.execute_reply.started": "2022-06-10T15:20:20.867500Z"
    },
    "id": "HFmfkTnePTE1",
    "outputId": "955bca16-5cd8-4fc1-e77e-d0b5da79eab2"
   },
   "outputs": [
    {
     "data": {
      "image/png": "[encoded data removed]",
      "text/plain": [
       "<Figure size 2160x1800 with 3 Axes>"
      ]
     },
     "metadata": {
      "needs_background": "light"
     },
     "output_type": "display_data"
    }
   ],
   "source": [
    "count=1\n",
    "plt.subplots(figsize=(30,25))\n",
    "for i in df1.columns:\n",
    "    if df1[i].dtypes!='object':\n",
    "        plt.subplot(6,7,count)\n",
    "        sns.distplot(df1[i])\n",
    "        count+=1\n",
    "\n",
    "plt.show()"
   ]
  },
  {
   "cell_type": "code",
   "execution_count": 160,
   "metadata": {
    "colab": {
     "base_uri": "https://localhost:8080/",
     "height": 532
    },
    "execution": {
     "iopub.execute_input": "2022-06-10T15:20:38.697111Z",
     "iopub.status.busy": "2022-06-10T15:20:38.696709Z",
     "iopub.status.idle": "2022-06-10T15:20:41.955551Z",
     "shell.execute_reply": "2022-06-10T15:20:41.954571Z",
     "shell.execute_reply.started": "2022-06-10T15:20:38.697077Z"
    },
    "id": "gCrrkjc1PTE2",
    "outputId": "73313a81-ab31-4741-e052-c6fec7dc3c48"
   },
   "outputs": [
    {
     "data": {
      "image/png": "[encoded data removed]",
      "text/plain": [
       "<Figure size 2160x1800 with 3 Axes>"
      ]
     },
     "metadata": {
      "needs_background": "light"
     },
     "output_type": "display_data"
    }
   ],
   "source": [
    "count=1\n",
    "plt.subplots(figsize=(30,25))\n",
    "for i in df1.columns:\n",
    "    if df1[i].dtypes!='object':\n",
    "        plt.subplot(6,7,count)\n",
    "        sns.boxplot(df1[i])\n",
    "        count+=1\n",
    "\n",
    "plt.show()"
   ]
  },
  {
   "cell_type": "code",
   "execution_count": 161,
   "metadata": {
    "colab": {
     "base_uri": "https://localhost:8080/"
    },
    "execution": {
     "iopub.execute_input": "2022-06-10T15:20:51.270404Z",
     "iopub.status.busy": "2022-06-10T15:20:51.269672Z",
     "iopub.status.idle": "2022-06-10T15:20:51.277936Z",
     "shell.execute_reply": "2022-06-10T15:20:51.277271Z",
     "shell.execute_reply.started": "2022-06-10T15:20:51.270362Z"
    },
    "id": "xPRLgMovPTE3",
    "outputId": "e292d71d-0847-4f71-8d0b-b197088aebf8"
   },
   "outputs": [
    {
     "data": {
      "text/plain": [
       "EmployeeID         int64\n",
       "JobSatisfaction    int32\n",
       "WorkLifeBalance    int32\n",
       "dtype: object"
      ]
     },
     "execution_count": 161,
     "metadata": {},
     "output_type": "execute_result"
    }
   ],
   "source": [
    "df1.dtypes"
   ]
  },
  {
   "cell_type": "markdown",
   "metadata": {
    "id": "03fVlhccPTFT"
   },
   "source": [
    "# Train test and split "
   ]
  },
  {
   "cell_type": "code",
   "execution_count": 162,
   "metadata": {},
   "outputs": [],
   "source": [
    "X = df1.iloc[:, 0:1].values\n",
    "y = df1.iloc[:, 1]"
   ]
  },
  {
   "cell_type": "code",
   "execution_count": 163,
   "metadata": {
    "execution": {
     "iopub.execute_input": "2022-06-10T15:22:48.560595Z",
     "iopub.status.busy": "2022-06-10T15:22:48.560189Z",
     "iopub.status.idle": "2022-06-10T15:22:48.569070Z",
     "shell.execute_reply": "2022-06-10T15:22:48.568080Z",
     "shell.execute_reply.started": "2022-06-10T15:22:48.560562Z"
    },
    "id": "HAyzd-2VPTFU"
   },
   "outputs": [],
   "source": [
    "X_train,X_test,y_train,y_test = train_test_split(X,y,test_size=0.25,random_state=42)"
   ]
  },
  {
   "cell_type": "markdown",
   "metadata": {
    "id": "ne9cLgEIPTFV"
   },
   "source": [
    "# Accuracies of different algorithms applied"
   ]
  },
  {
   "cell_type": "code",
   "execution_count": 164,
   "metadata": {},
   "outputs": [
    {
     "data": {
      "text/plain": [
       "RandomForestClassifier(criterion='entropy', random_state=0)"
      ]
     },
     "execution_count": 164,
     "metadata": {},
     "output_type": "execute_result"
    }
   ],
   "source": [
    "from sklearn.ensemble import RandomForestClassifier\n",
    "forest = RandomForestClassifier(n_estimators = 100, criterion = 'entropy', random_state = 0)\n",
    "forest.fit(X_train, y_train)"
   ]
  },
  {
   "cell_type": "code",
   "execution_count": 165,
   "metadata": {},
   "outputs": [
    {
     "data": {
      "text/plain": [
       "0.9996976111279104"
      ]
     },
     "execution_count": 165,
     "metadata": {},
     "output_type": "execute_result"
    }
   ],
   "source": [
    "forest.score(X_train, y_train)"
   ]
  },
  {
   "cell_type": "code",
   "execution_count": 166,
   "metadata": {},
   "outputs": [
    {
     "data": {
      "text/plain": [
       "RandomForestClassifier(criterion='entropy', n_estimators=200, random_state=0)"
      ]
     },
     "execution_count": 166,
     "metadata": {},
     "output_type": "execute_result"
    }
   ],
   "source": [
    "from sklearn.ensemble import RandomForestClassifier\n",
    "forest = RandomForestClassifier(n_estimators = 200, criterion = 'entropy', random_state = 0)\n",
    "forest.fit(X_train, y_train)"
   ]
  },
  {
   "cell_type": "code",
   "execution_count": 167,
   "metadata": {},
   "outputs": [
    {
     "data": {
      "text/plain": [
       "1.0"
      ]
     },
     "execution_count": 167,
     "metadata": {},
     "output_type": "execute_result"
    }
   ],
   "source": [
    "forest.score(X_train, y_train)"
   ]
  },
  {
   "cell_type": "code",
   "execution_count": 168,
   "metadata": {},
   "outputs": [
    {
     "data": {
      "text/plain": [
       "0.26745240253853125"
      ]
     },
     "execution_count": 168,
     "metadata": {},
     "output_type": "execute_result"
    }
   ],
   "source": [
    "forest.score(X_test, y_test)"
   ]
  },
  {
   "cell_type": "code",
   "execution_count": 169,
   "metadata": {},
   "outputs": [],
   "source": [
    "from sklearn.model_selection import train_test_split\n",
    "from sklearn.preprocessing import LabelEncoder\n",
    "from sklearn import metrics\n",
    "from sklearn.metrics import mean_absolute_error, mean_squared_error, r2_score\n",
    "from sklearn.svm import SVR\n",
    "from sklearn.tree import DecisionTreeRegressor\n",
    "from sklearn.ensemble import RandomForestRegressor\n",
    "from sklearn import neighbors\n",
    "from math import sqrt\n",
    "%matplotlib inline"
   ]
  },
  {
   "cell_type": "code",
   "execution_count": 170,
   "metadata": {},
   "outputs": [],
   "source": [
    "X = df1.iloc[:, 0:1].values\n",
    "y = df1.iloc[:, 1]"
   ]
  },
  {
   "cell_type": "code",
   "execution_count": 171,
   "metadata": {},
   "outputs": [],
   "source": [
    "from sklearn.model_selection import train_test_split \n",
    "X_train, X_test, y_train, y_test = train_test_split(X, y,test_size=0.25,random_state =1) "
   ]
  },
  {
   "cell_type": "code",
   "execution_count": 172,
   "metadata": {},
   "outputs": [
    {
     "data": {
      "text/plain": [
       "DecisionTreeClassifier(max_depth=10, random_state=42)"
      ]
     },
     "execution_count": 172,
     "metadata": {},
     "output_type": "execute_result"
    }
   ],
   "source": [
    "from sklearn.tree import DecisionTreeClassifier\n",
    "\n",
    "tree_classifier = DecisionTreeClassifier(max_depth = 10, random_state = 42)\n",
    "tree_classifier.fit(X_train,y_train)"
   ]
  },
  {
   "cell_type": "code",
   "execution_count": 173,
   "metadata": {},
   "outputs": [
    {
     "data": {
      "text/plain": [
       "0.3773813123677049"
      ]
     },
     "execution_count": 173,
     "metadata": {},
     "output_type": "execute_result"
    }
   ],
   "source": [
    "tree_classifier.score(X_train, y_train)"
   ]
  },
  {
   "cell_type": "code",
   "execution_count": 174,
   "metadata": {},
   "outputs": [],
   "source": [
    "y_tree_pred = tree_classifier.predict(X_test)"
   ]
  },
  {
   "cell_type": "code",
   "execution_count": 175,
   "metadata": {},
   "outputs": [],
   "source": [
    "from sklearn.metrics import confusion_matrix, accuracy_score, f1_score, precision_score, recall_score\n",
    "acc = accuracy_score(y_test, y_tree_pred)"
   ]
  },
  {
   "cell_type": "code",
   "execution_count": 176,
   "metadata": {},
   "outputs": [
    {
     "data": {
      "text/plain": [
       "0.2883046237533998"
      ]
     },
     "execution_count": 176,
     "metadata": {},
     "output_type": "execute_result"
    }
   ],
   "source": [
    "acc"
   ]
  },
  {
   "cell_type": "code",
   "execution_count": null,
   "metadata": {},
   "outputs": [],
   "source": []
  }
 ],
 "metadata": {
  "colab": {
   "collapsed_sections": [
    "PYOyp0e0PTFX"
   ],
   "provenance": []
  },
  "kernelspec": {
   "display_name": "Python 3 (ipykernel)",
   "language": "python",
   "name": "python3"
  },
  "language_info": {
   "codemirror_mode": {
    "name": "ipython",
    "version": 3
   },
   "file_extension": ".py",
   "mimetype": "text/x-python",
   "name": "python",
   "nbconvert_exporter": "python",
   "pygments_lexer": "ipython3",
   "version": "3.9.12"
  }
 },
 "nbformat": 4,
 "nbformat_minor": 1
}
